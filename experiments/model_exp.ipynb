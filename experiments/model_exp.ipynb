{
 "cells": [
  {
   "cell_type": "code",
   "execution_count": 19,
   "metadata": {},
   "outputs": [],
   "source": [
    "import numpy as np\n",
    "import orbax.checkpoint as ocp\n",
    "import jax"
   ]
  },
  {
   "cell_type": "code",
   "execution_count": 20,
   "metadata": {},
   "outputs": [],
   "source": [
    "path = ocp.test_utils.erase_and_create_empty('/tmp/my-checkpoints/')"
   ]
  },
  {
   "cell_type": "code",
   "execution_count": 21,
   "metadata": {},
   "outputs": [],
   "source": [
    "my_tree = {\n",
    "    'a': np.arange(8),\n",
    "    'b': {\n",
    "        'c': 42,\n",
    "        'd': np.arange(16),\n",
    "    },\n",
    "}\n",
    "abstract_my_tree = jax.tree_util.tree_map(\n",
    "    ocp.utils.to_shape_dtype_struct, my_tree)"
   ]
  },
  {
   "cell_type": "code",
   "execution_count": 22,
   "metadata": {},
   "outputs": [
    {
     "data": {
      "text/plain": [
       "{'a': ShapeDtypeStruct(shape=(8,), dtype=int64),\n",
       " 'b': {'c': 42, 'd': ShapeDtypeStruct(shape=(16,), dtype=int64)}}"
      ]
     },
     "execution_count": 22,
     "metadata": {},
     "output_type": "execute_result"
    }
   ],
   "source": [
    "abstract_my_tree"
   ]
  },
  {
   "cell_type": "code",
   "execution_count": 23,
   "metadata": {},
   "outputs": [],
   "source": [
    "checkpointer = ocp.StandardCheckpointer()\n",
    "# 'checkpoint_name' must not already exist.\n",
    "checkpointer.save(path / 'checkpoint_name', my_tree)\n"
   ]
  },
  {
   "cell_type": "code",
   "execution_count": 24,
   "metadata": {},
   "outputs": [
    {
     "data": {
      "text/plain": [
       "{'a': array([0, 1, 2, 3, 4, 5, 6, 7]),\n",
       " 'b': {'c': 42,\n",
       "  'd': array([ 0,  1,  2,  3,  4,  5,  6,  7,  8,  9, 10, 11, 12, 13, 14, 15])}}"
      ]
     },
     "execution_count": 24,
     "metadata": {},
     "output_type": "execute_result"
    }
   ],
   "source": [
    "checkpointer.restore(\n",
    "    path / 'checkpoint_name/',\n",
    "    abstract_my_tree\n",
    ")\n"
   ]
  },
  {
   "cell_type": "code",
   "execution_count": 25,
   "metadata": {},
   "outputs": [
    {
     "data": {
      "text/plain": [
       "TreeMetadata(\n",
       "  custom_metadata=None\n",
       "  tree={'a': ArrayMetadata :  name=a,  directory=/tmp/my-checkpoints/checkpoint_name,  shape=(8,),  sharding=None,  dtype=int64,  storage=StorageMetadata(chunk_shape=(8,), write_shape=None),, 'b': {'c': ScalarMetadata(name='b.c', directory=PosixGPath('/tmp/my-checkpoints/checkpoint_name'), shape=(), sharding=None, dtype=dtype('int64'), storage=None), 'd': ArrayMetadata :  name=b.d,  directory=/tmp/my-checkpoints/checkpoint_name,  shape=(16,),  sharding=None,  dtype=int64,  storage=StorageMetadata(chunk_shape=(16,), write_shape=None),}}\n",
       ")"
      ]
     },
     "execution_count": 25,
     "metadata": {},
     "output_type": "execute_result"
    }
   ],
   "source": [
    "checkpointer.metadata(path / 'checkpoint_name')"
   ]
  },
  {
   "cell_type": "code",
   "execution_count": 28,
   "metadata": {},
   "outputs": [],
   "source": [
    "metadata = {\n",
    "    \"version\": \"1.0\",\n",
    "    \"lang\":\"en\"\n",
    "}\n",
    "checkpointer = ocp.Checkpointer(\n",
    "    ocp.CompositeCheckpointHandler()\n",
    ")\n"
   ]
  },
  {
   "cell_type": "code",
   "execution_count": 29,
   "metadata": {},
   "outputs": [],
   "source": [
    "checkpointer.save(\n",
    "    path / 'composite_checkpoint',\n",
    "    args=ocp.args.Composite(\n",
    "        state=ocp.args.StandardSave(my_tree),\n",
    "        metadata=ocp.args.JsonSave(metadata),\n",
    "    ),\n",
    ")"
   ]
  },
  {
   "cell_type": "code",
   "execution_count": 30,
   "metadata": {},
   "outputs": [
    {
     "name": "stderr",
     "output_type": "stream",
     "text": [
      "WARNING:absl:`StandardCheckpointHandler` expects a target tree to be provided for restore. Not doing so is generally UNSAFE unless you know the present topology to be the same one as the checkpoint was saved under.\n"
     ]
    }
   ],
   "source": [
    "restored = checkpointer.restore(path / \"composite_checkpoint\")\n"
   ]
  },
  {
   "cell_type": "code",
   "execution_count": 31,
   "metadata": {},
   "outputs": [
    {
     "data": {
      "text/plain": [
       "{'a': array([0, 1, 2, 3, 4, 5, 6, 7]),\n",
       " 'b': {'c': 42,\n",
       "  'd': array([ 0,  1,  2,  3,  4,  5,  6,  7,  8,  9, 10, 11, 12, 13, 14, 15])}}"
      ]
     },
     "execution_count": 31,
     "metadata": {},
     "output_type": "execute_result"
    }
   ],
   "source": [
    "restored.state"
   ]
  },
  {
   "cell_type": "code",
   "execution_count": 32,
   "metadata": {},
   "outputs": [
    {
     "data": {
      "text/plain": [
       "[PosixGPath('/tmp/my-checkpoints/composite_checkpoint/state'),\n",
       " PosixGPath('/tmp/my-checkpoints/composite_checkpoint/_CHECKPOINT_METADATA'),\n",
       " PosixGPath('/tmp/my-checkpoints/composite_checkpoint/metadata')]"
      ]
     },
     "execution_count": 32,
     "metadata": {},
     "output_type": "execute_result"
    }
   ],
   "source": [
    "list((path / 'composite_checkpoint').iterdir())"
   ]
  },
  {
   "cell_type": "code",
   "execution_count": 36,
   "metadata": {},
   "outputs": [],
   "source": [
    "path = ocp.test_utils.erase_and_create_empty('/tmp/checkpoint_manager')\n",
    "state = {\n",
    "    'a': np.arange(8),\n",
    "    'b': np.arange(16),\n",
    "}\n",
    "extra_params = [42, 43]"
   ]
  },
  {
   "cell_type": "code",
   "execution_count": 37,
   "metadata": {},
   "outputs": [],
   "source": [
    "options = ocp.CheckpointManagerOptions(max_to_keep=10, save_interval_steps=2)\n",
    "mngr = ocp.CheckpointManager(\n",
    "    path, options=options, item_names=('state', 'extra_params')\n",
    ")"
   ]
  },
  {
   "cell_type": "code",
   "execution_count": 38,
   "metadata": {},
   "outputs": [],
   "source": [
    "for step in range(10):\n",
    "    mngr.save(step, args=ocp.args.Composite(\n",
    "        state=ocp.args.StandardSave(state),\n",
    "        extra_params=ocp.args.JsonSave(extra_params),\n",
    "    ))\n",
    "\n",
    "mngr.wait_until_finished()"
   ]
  },
  {
   "cell_type": "code",
   "execution_count": 39,
   "metadata": {},
   "outputs": [
    {
     "name": "stderr",
     "output_type": "stream",
     "text": [
      "WARNING:absl:`StandardCheckpointHandler` expects a target tree to be provided for restore. Not doing so is generally UNSAFE unless you know the present topology to be the same one as the checkpoint was saved under.\n"
     ]
    }
   ],
   "source": [
    "restored = mngr.restore(8)"
   ]
  },
  {
   "cell_type": "code",
   "execution_count": 18,
   "metadata": {},
   "outputs": [],
   "source": [
    "import jax\n",
    "import orbax.checkpoint as ocp\n",
    "import jax.numpy as jnp\n",
    "import os\n",
    "os.environ['XLA_FLAGS'] = '--xla_force_host_platform_device_count=8'\n",
    "\n",
    "path = ocp.test_utils.erase_and_create_empty('/tmp/checkpoint_manager_sharded')\n",
    "\n",
    "sharding = jax.sharding.NamedSharding(\n",
    "    jax.sharding.Mesh(jax.devices(), ('model',)),\n",
    "    jax.sharding.PartitionSpec('model'),\n",
    ")"
   ]
  },
  {
   "cell_type": "code",
   "execution_count": 19,
   "metadata": {},
   "outputs": [],
   "source": [
    "create_sharded_array = lambda x: jax.device_put(x,sharding)"
   ]
  },
  {
   "cell_type": "code",
   "execution_count": 20,
   "metadata": {},
   "outputs": [],
   "source": [
    "train_state = {\n",
    "    \"a\": jnp.arange(16),\n",
    "    \"b\": jnp.ones(16),\n",
    "}\n",
    "train_state = jax.tree.map(create_sharded_array, train_state)"
   ]
  },
  {
   "cell_type": "code",
   "execution_count": 21,
   "metadata": {},
   "outputs": [
    {
     "data": {
      "text/plain": [
       "{'a': NamedSharding(mesh=Mesh('model': 8, axis_types=(Auto,)), spec=PartitionSpec('model',), memory_kind=unpinned_host),\n",
       " 'b': NamedSharding(mesh=Mesh('model': 8, axis_types=(Auto,)), spec=PartitionSpec('model',), memory_kind=unpinned_host)}"
      ]
     },
     "execution_count": 21,
     "metadata": {},
     "output_type": "execute_result"
    }
   ],
   "source": [
    "jax.tree.map(lambda x: x.sharding,train_state)"
   ]
  },
  {
   "cell_type": "code",
   "execution_count": 22,
   "metadata": {},
   "outputs": [],
   "source": [
    "num_steps = 10\n",
    "options = ocp.CheckpointManagerOptions(max_to_keep=3, save_interval_steps=2)\n",
    "mngr = ocp.CheckpointManager(path, options=options)\n",
    "\n",
    "@jax.jit\n",
    "def train_fn(state):\n",
    "    return jax.tree.map(lambda x: x + 1, state)\n",
    "\n",
    "\n",
    "for step in range(num_steps):\n",
    "    train_state = train_fn(train_state)\n",
    "    mngr.save(step, args=ocp.args.StandardSave(train_state))\n",
    "\n",
    "mngr.wait_until_finished()\n"
   ]
  },
  {
   "cell_type": "code",
   "execution_count": 24,
   "metadata": {},
   "outputs": [
    {
     "name": "stderr",
     "output_type": "stream",
     "text": [
      "WARNING:absl:`StandardCheckpointHandler` expects a target tree to be provided for restore. Not doing so is generally UNSAFE unless you know the present topology to be the same one as the checkpoint was saved under.\n"
     ]
    },
    {
     "data": {
      "text/plain": [
       "{'a': Array([ 9, 10, 11, 12, 13, 14, 15, 16, 17, 18, 19, 20, 21, 22, 23, 24],      dtype=int32),\n",
       " 'b': Array([10., 10., 10., 10., 10., 10., 10., 10., 10., 10., 10., 10., 10.,\n",
       "        10., 10., 10.], dtype=float32)}"
      ]
     },
     "execution_count": 24,
     "metadata": {},
     "output_type": "execute_result"
    }
   ],
   "source": [
    "mngr.restore(mngr.latest_step())"
   ]
  },
  {
   "cell_type": "code",
   "execution_count": 27,
   "metadata": {},
   "outputs": [],
   "source": [
    "import jax\n",
    "import jax.numpy as jnp\n",
    "train_state = {\n",
    "    \"a\": jnp.arange(16),\n",
    "    \"b\": jnp.ones(16),\n",
    "}\n",
    "\n",
    "train_state = jax.tree.map(jnp.zeros_like, train_state)"
   ]
  },
  {
   "cell_type": "code",
   "execution_count": 28,
   "metadata": {},
   "outputs": [],
   "source": [
    "sharding = jax.sharding.NamedSharding(\n",
    "    jax.sharding.Mesh(jax.devices(), ('model',)),\n",
    "    jax.sharding.PartitionSpec('model'),\n",
    ")"
   ]
  },
  {
   "cell_type": "code",
   "execution_count": 29,
   "metadata": {},
   "outputs": [],
   "source": [
    "create_sharded_array = lambda x: jax.device_put(x, sharding)"
   ]
  },
  {
   "cell_type": "code",
   "execution_count": 30,
   "metadata": {},
   "outputs": [],
   "source": [
    "train_state = jax.tree.map(create_sharded_array,train_state)"
   ]
  },
  {
   "cell_type": "code",
   "execution_count": 31,
   "metadata": {},
   "outputs": [],
   "source": [
    "abstract_train_state = jax.tree.map(ocp.utils.to_shape_dtype_struct,train_state)"
   ]
  },
  {
   "cell_type": "code",
   "execution_count": null,
   "metadata": {},
   "outputs": [],
   "source": [
    "restored = mngr.restore(\n",
    "    mngr.latest_step(),\n",
    ")\n"
   ]
  },
  {
   "cell_type": "code",
   "execution_count": 37,
   "metadata": {},
   "outputs": [
    {
     "data": {
      "text/plain": [
       "{'a': NamedSharding(mesh=Mesh('model': 8, axis_types=(Auto,)), spec=PartitionSpec('model',), memory_kind=unpinned_host),\n",
       " 'b': NamedSharding(mesh=Mesh('model': 8, axis_types=(Auto,)), spec=PartitionSpec('model',), memory_kind=unpinned_host)}"
      ]
     },
     "execution_count": 37,
     "metadata": {},
     "output_type": "execute_result"
    }
   ],
   "source": [
    "jax.tree.map(lambda x:x.sharding,restored)"
   ]
  },
  {
   "cell_type": "code",
   "execution_count": null,
   "metadata": {},
   "outputs": [],
   "source": []
  }
 ],
 "metadata": {
  "kernelspec": {
   "display_name": ".venv",
   "language": "python",
   "name": "python3"
  },
  "language_info": {
   "codemirror_mode": {
    "name": "ipython",
    "version": 3
   },
   "file_extension": ".py",
   "mimetype": "text/x-python",
   "name": "python",
   "nbconvert_exporter": "python",
   "pygments_lexer": "ipython3",
   "version": "3.12.8"
  }
 },
 "nbformat": 4,
 "nbformat_minor": 2
}
