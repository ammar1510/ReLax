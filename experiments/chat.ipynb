{
 "cells": [
  {
   "cell_type": "code",
   "execution_count": 66,
   "metadata": {},
   "outputs": [],
   "source": [
    "import jax\n",
    "import jax.numpy as jnp\n",
    "from jax.sharding import NamedSharding, PartitionSpec as PS, Mesh\n",
    "import jax.random as random\n",
    "from typing import Optional\n",
    "\n",
    "from models.llama.model import LLaMa\n",
    "from models.llama.config import ModelConfig\n",
    "from models.llama.load import load_llama_weights\n",
    "from models.llama.tokenizer import Tokenizer\n",
    "\n",
    "from utils.kvcache import KVCache\n",
    "\n",
    "from pathlib import Path\n",
    "\n"
   ]
  },
  {
   "cell_type": "code",
   "execution_count": 14,
   "metadata": {},
   "outputs": [],
   "source": [
    "default_mesh = jax.make_mesh((2, 2), ('a', 'b'))\n",
    "\n",
    "def mesh_sharding(\n",
    "    pspec: PS, mesh: Optional[Mesh] = None,\n",
    "  ) -> NamedSharding:\n",
    "  if mesh is None:\n",
    "    mesh = default_mesh\n",
    "  return NamedSharding(mesh, pspec)"
   ]
  },
  {
   "cell_type": "code",
   "execution_count": 15,
   "metadata": {},
   "outputs": [],
   "source": [
    "checkpoint_path = Path(\"/home/ammar3.shaikh/ReLax/artifacts/weights/llama-3.2-3B\")"
   ]
  },
  {
   "cell_type": "code",
   "execution_count": 16,
   "metadata": {},
   "outputs": [],
   "source": [
    "model_config = ModelConfig.from_json_file(checkpoint_path)\n",
    "model = LLaMa(model_config)\n",
    "params = load_llama_weights(checkpoint_path)"
   ]
  },
  {
   "cell_type": "code",
   "execution_count": null,
   "metadata": {},
   "outputs": [
    {
     "data": {
      "text/plain": [
       "'<|begin_of_text|>Hello, world!<|end_of_text|>'"
      ]
     },
     "execution_count": 18,
     "metadata": {},
     "output_type": "execute_result"
    }
   ],
   "source": [
    "tokenizer = Tokenizer(checkpoint_path/\"original/tokenizer.model\")"
   ]
  },
  {
   "cell_type": "code",
   "execution_count": null,
   "metadata": {},
   "outputs": [],
   "source": []
  },
  {
   "cell_type": "code",
   "execution_count": 52,
   "metadata": {},
   "outputs": [
    {
     "name": "stdout",
     "output_type": "stream",
     "text": [
      "(1, 9)\n"
     ]
    }
   ],
   "source": []
  },
  {
   "cell_type": "code",
   "execution_count": 35,
   "metadata": {},
   "outputs": [],
   "source": [
    "output,new_kvcache = model.apply({\"params\":params},tokens,start_pos,kvcache)\n"
   ]
  },
  {
   "cell_type": "code",
   "execution_count": 45,
   "metadata": {},
   "outputs": [],
   "source": [
    "pred = jnp.argmax(output,axis=-1).tolist()"
   ]
  },
  {
   "cell_type": "code",
   "execution_count": 49,
   "metadata": {},
   "outputs": [],
   "source": [
    "response = tokenizer.decode(pred[0])"
   ]
  },
  {
   "cell_type": "code",
   "execution_count": 50,
   "metadata": {},
   "outputs": [
    {
     "data": {
      "text/plain": [
       "',1 again2  a   '"
      ]
     },
     "execution_count": 50,
     "metadata": {},
     "output_type": "execute_result"
    }
   ],
   "source": [
    "response"
   ]
  },
  {
   "cell_type": "code",
   "execution_count": 71,
   "metadata": {},
   "outputs": [],
   "source": [
    "def generate_text(kvcache,start_pos, text, max_new_tokens, temperature=0.8, rng_key=None):\n",
    "    tokens = jnp.array([tokenizer.encode(text,bos=False,eos=False)])\n",
    "\n",
    "    response = tokens[0]\n",
    "    if rng_key is None:\n",
    "        rng_key = random.PRNGKey(42)\n",
    "\n",
    "    for _ in range(max_new_tokens):\n",
    "        output,new_kvcache = model.apply({\"params\":params},tokens,start_pos,kvcache)\n",
    "        start_pos += len(tokens[0])\n",
    "        \n",
    "        # Sample from the model's output instead of always picking the best token\n",
    "        logits = output[:, -1, :]\n",
    "        scaled_logits = logits / temperature\n",
    "        rng_key, subkey = random.split(rng_key)\n",
    "        next_token = random.categorical(subkey, scaled_logits, axis=-1)\n",
    "        \n",
    "        tokens = next_token[None, :]\n",
    "        kvcache = new_kvcache\n",
    "        response = jnp.concatenate([response,tokens[0]])\n",
    "\n",
    "    response_text = tokenizer.decode(response)\n",
    "    return response_text"
   ]
  },
  {
   "cell_type": "code",
   "execution_count": 72,
   "metadata": {},
   "outputs": [
    {
     "name": "stdout",
     "output_type": "stream",
     "text": [
      "There once was a ship that put to sea 7 7\n",
      "  0 0 0 0 0 0 0 0 0 0 0 0 0 0 0 0 0 0 0 0 0 0\n"
     ]
    }
   ],
   "source": [
    "kvcache = KVCache.new(n_layers=model_config.n_layers, bsz=1, max_seq_len=model_config.max_seq_len, kv_heads=model_config.n_kv_heads, head_dim=model_config.head_dim)\n",
    "start_pos = 0\n",
    "text = \"There once was a ship that put to sea\"\n",
    "max_new_tokens = 50\n",
    "\n",
    "response = generate_text(kvcache,start_pos,text,max_new_tokens)\n",
    "print(response)"
   ]
  },
  {
   "cell_type": "code",
   "execution_count": 57,
   "metadata": {},
   "outputs": [],
   "source": [
    "output,new_kvcache = model.apply({\"params\":params},tokens,start_pos,kvcache)"
   ]
  },
  {
   "cell_type": "code",
   "execution_count": 59,
   "metadata": {},
   "outputs": [
    {
     "data": {
      "text/plain": [
       "(1, 17, 128256)"
      ]
     },
     "execution_count": 59,
     "metadata": {},
     "output_type": "execute_result"
    }
   ],
   "source": [
    "output.shape"
   ]
  },
  {
   "cell_type": "code",
   "execution_count": null,
   "metadata": {},
   "outputs": [],
   "source": []
  }
 ],
 "metadata": {
  "kernelspec": {
   "display_name": ".venv",
   "language": "python",
   "name": "python3"
  },
  "language_info": {
   "codemirror_mode": {
    "name": "ipython",
    "version": 3
   },
   "file_extension": ".py",
   "mimetype": "text/x-python",
   "name": "python",
   "nbconvert_exporter": "python",
   "pygments_lexer": "ipython3",
   "version": "3.12.11"
  }
 },
 "nbformat": 4,
 "nbformat_minor": 2
}
