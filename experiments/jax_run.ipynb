{
 "cells": [
  {
   "cell_type": "code",
   "execution_count": 1,
   "metadata": {},
   "outputs": [],
   "source": [
    "import jax\n",
    "import jax.numpy as jnp\n",
    "\n",
    "\n",
    "from models.llama.model import LLaMa\n",
    "from models.llama.config import ModelConfig\n",
    "from models.llama.tokenizer import Tokenizer\n",
    "from models.llama.load import load_llama_weights\n",
    "from utils.memory import estimate_pytree_memory_footprint, format_bytes\n",
    "from utils.kvcache import KVCache\n",
    "\n",
    "jax.config.update(\"jax_default_matmul_precision\", \"float32\")\n"
   ]
  },
  {
   "cell_type": "code",
   "execution_count": 5,
   "metadata": {},
   "outputs": [],
   "source": [
    "ckpt_dir = \"/home/ammar3.shaikh/ReLax/artifacts/weights/Llama-3.2-3B-JAX\"\n",
    "tokenizer_path = \"/home/ammar3.shaikh/ReLax/artifacts/weights/Llama-3.2-3B-JAX/tokenizer.model\""
   ]
  },
  {
   "cell_type": "code",
   "execution_count": 6,
   "metadata": {},
   "outputs": [
    {
     "name": "stdout",
     "output_type": "stream",
     "text": [
      "Model config:  ModelConfig(vocab_size=128256, dim=3072, ffn_hidden_dim=8192, n_layers=28, n_heads=24, n_kv_heads=8, activation_fn='silu', max_seqlen=8192, rope_theta=500000.0, rms_norm_eps=1e-05, mode='inference', dtype='float32', use_scaled_rope=True)\n"
     ]
    }
   ],
   "source": [
    "\n",
    "model_config = ModelConfig.from_json_file(ckpt_dir)\n",
    "\n",
    "tokenizer = Tokenizer(tokenizer_path)\n",
    "print(\"Model config: \", model_config)"
   ]
  },
  {
   "cell_type": "code",
   "execution_count": 10,
   "metadata": {},
   "outputs": [
    {
     "name": "stdout",
     "output_type": "stream",
     "text": [
      "Estimated model params size: 13.44GB\n"
     ]
    }
   ],
   "source": [
    "# Load model weights\n",
    "params = load_llama_weights(ckpt_dir+\"/model.safetensors\", model_config)\n",
    "\n",
    "# Initialize the model\n",
    "model = LLaMa(model_config)\n",
    "\n",
    "# Create a JAX random key\n",
    "seed = 1\n",
    "rng_key = jax.random.PRNGKey(seed)\n",
    "\n",
    "\n",
    "# Estimate and print memory usage\n",
    "params_size_bytes = estimate_pytree_memory_footprint(params)\n",
    "print(f\"Estimated model params size: {format_bytes(params_size_bytes)}\")\n"
   ]
  },
  {
   "cell_type": "code",
   "execution_count": 16,
   "metadata": {},
   "outputs": [
    {
     "name": "stdout",
     "output_type": "stream",
     "text": [
      "Estimated kvcache size: 1.75GB\n"
     ]
    }
   ],
   "source": [
    "# JAX init\n",
    "batch_size = 2\n",
    "seq_len = 512\n",
    "dummy_tokens = jnp.ones((batch_size, seq_len), dtype=jnp.int32)\n",
    "dummy_kvcache = KVCache.new(n_layers=model_config.n_layers, bsz=batch_size, max_seqlen=model_config.max_seqlen, kv_heads=model_config.n_kv_heads, head_dim=model_config.head_dim, dtype=model_config.dtype)\n",
    "\n",
    "kvcache_size_bytes = estimate_pytree_memory_footprint(dummy_kvcache)\n",
    "print(f\"Estimated kvcache size: {format_bytes(kvcache_size_bytes)}\")"
   ]
  },
  {
   "cell_type": "code",
   "execution_count": 17,
   "metadata": {},
   "outputs": [
    {
     "ename": "XlaRuntimeError",
     "evalue": "RESOURCE_EXHAUSTED: Error allocating device buffer: Attempting to allocate 896.00M. That was not possible. There are 612.30M free.; (0x0x0_HBM0)",
     "output_type": "error",
     "traceback": [
      "\u001b[31m---------------------------------------------------------------------------\u001b[39m",
      "\u001b[31mXlaRuntimeError\u001b[39m                           Traceback (most recent call last)",
      "\u001b[36mCell\u001b[39m\u001b[36m \u001b[39m\u001b[32mIn[17]\u001b[39m\u001b[32m, line 1\u001b[39m\n\u001b[32m----> \u001b[39m\u001b[32m1\u001b[39m logits,updated_kvcache = \u001b[43mmodel\u001b[49m\u001b[43m.\u001b[49m\u001b[43mapply\u001b[49m\u001b[43m(\u001b[49m\u001b[43m{\u001b[49m\u001b[33;43m\"\u001b[39;49m\u001b[33;43mparams\u001b[39;49m\u001b[33;43m\"\u001b[39;49m\u001b[43m:\u001b[49m\u001b[43m \u001b[49m\u001b[43mparams\u001b[49m\u001b[43m}\u001b[49m\u001b[43m,\u001b[49m\u001b[43m \u001b[49m\u001b[43mdummy_tokens\u001b[49m\u001b[43m,\u001b[49m\u001b[43m \u001b[49m\u001b[32;43m0\u001b[39;49m\u001b[43m,\u001b[49m\u001b[43m \u001b[49m\u001b[43mdummy_kvcache\u001b[49m\u001b[43m)\u001b[49m\n",
      "    \u001b[31m[... skipping hidden 6 frame]\u001b[39m\n",
      "\u001b[36mFile \u001b[39m\u001b[32m~/ReLax/models/llama/model.py:94\u001b[39m, in \u001b[36mLLaMa.__call__\u001b[39m\u001b[34m(self, tokens, start_pos, kv_cache)\u001b[39m\n\u001b[32m     92\u001b[39m \u001b[38;5;66;03m# Transformer layers\u001b[39;00m\n\u001b[32m     93\u001b[39m \u001b[38;5;28;01mfor\u001b[39;00m layer_idx, layer \u001b[38;5;129;01min\u001b[39;00m \u001b[38;5;28menumerate\u001b[39m(\u001b[38;5;28mself\u001b[39m.layers):\n\u001b[32m---> \u001b[39m\u001b[32m94\u001b[39m     h, kv_cache = \u001b[43mlayer\u001b[49m\u001b[43m(\u001b[49m\u001b[43mh\u001b[49m\u001b[43m,\u001b[49m\u001b[43m \u001b[49m\u001b[38;5;28;43mself\u001b[39;49m\u001b[43m.\u001b[49m\u001b[43mfreqs_cis\u001b[49m\u001b[43m,\u001b[49m\u001b[43m \u001b[49m\u001b[43mkv_cache\u001b[49m\u001b[43m,\u001b[49m\u001b[43m \u001b[49m\u001b[43mlayer_idx\u001b[49m\u001b[43m,\u001b[49m\u001b[43m \u001b[49m\u001b[43mstart_pos\u001b[49m\u001b[43m)\u001b[49m\n\u001b[32m     95\u001b[39m     jax.debug.print(\u001b[33mf\u001b[39m\u001b[33m\"\u001b[39m\u001b[33mOutput after layer \u001b[39m\u001b[38;5;132;01m{\u001b[39;00mlayer_idx\u001b[38;5;132;01m}\u001b[39;00m\u001b[33m: \u001b[39m\u001b[38;5;132;01m{\u001b[39;00mh[:,\u001b[38;5;250m \u001b[39m:,\u001b[38;5;250m \u001b[39m:\u001b[32m20\u001b[39m]\u001b[38;5;132;01m}\u001b[39;00m\u001b[33m\"\u001b[39m)\n\u001b[32m     97\u001b[39m \u001b[38;5;66;03m# Final normalization and output projection\u001b[39;00m\n",
      "    \u001b[31m[... skipping hidden 2 frame]\u001b[39m\n",
      "\u001b[36mFile \u001b[39m\u001b[32m~/ReLax/models/llama/model.py:37\u001b[39m, in \u001b[36mTransformerBlock.__call__\u001b[39m\u001b[34m(self, x, freqs_cis, kv_cache, layer_idx, start_pos)\u001b[39m\n\u001b[32m     34\u001b[39m \u001b[38;5;28;01mdef\u001b[39;00m\u001b[38;5;250m \u001b[39m\u001b[34m__call__\u001b[39m(\u001b[38;5;28mself\u001b[39m, x: jax.Array, freqs_cis: jax.Array, kv_cache: KVCache, layer_idx: \u001b[38;5;28mint\u001b[39m, start_pos: \u001b[38;5;28mint\u001b[39m) -> \u001b[38;5;28mtuple\u001b[39m[jax.Array, KVCache]:\n\u001b[32m     35\u001b[39m     \u001b[38;5;66;03m# Attention block\u001b[39;00m\n\u001b[32m     36\u001b[39m     h_norm = rms_norm(x, \u001b[38;5;28mself\u001b[39m.attention_norm_weight, eps=\u001b[38;5;28mself\u001b[39m.args.rms_norm_eps)\n\u001b[32m---> \u001b[39m\u001b[32m37\u001b[39m     attn_output, kv_cache = \u001b[43mgrouped_query_attention\u001b[49m\u001b[43m(\u001b[49m\n\u001b[32m     38\u001b[39m \u001b[43m        \u001b[49m\u001b[43mh_norm\u001b[49m\u001b[43m,\u001b[49m\n\u001b[32m     39\u001b[39m \u001b[43m        \u001b[49m\u001b[43mfreqs_cis\u001b[49m\u001b[43m=\u001b[49m\u001b[43mfreqs_cis\u001b[49m\u001b[43m,\u001b[49m\n\u001b[32m     40\u001b[39m \u001b[43m        \u001b[49m\u001b[43mparams\u001b[49m\u001b[43m=\u001b[49m\u001b[38;5;28;43mself\u001b[39;49m\u001b[43m.\u001b[49m\u001b[43mattention\u001b[49m\u001b[43m,\u001b[49m\n\u001b[32m     41\u001b[39m \u001b[43m        \u001b[49m\u001b[43mkv_cache\u001b[49m\u001b[43m=\u001b[49m\u001b[43mkv_cache\u001b[49m\u001b[43m,\u001b[49m\n\u001b[32m     42\u001b[39m \u001b[43m        \u001b[49m\u001b[43mlayer_idx\u001b[49m\u001b[43m=\u001b[49m\u001b[43mlayer_idx\u001b[49m\u001b[43m,\u001b[49m\n\u001b[32m     43\u001b[39m \u001b[43m        \u001b[49m\u001b[43mstart_pos\u001b[49m\u001b[43m=\u001b[49m\u001b[43mstart_pos\u001b[49m\u001b[43m,\u001b[49m\n\u001b[32m     44\u001b[39m \u001b[43m    \u001b[49m\u001b[43m)\u001b[49m\n\u001b[32m     45\u001b[39m     x = x + attn_output  \u001b[38;5;66;03m# Residual connection\u001b[39;00m\n\u001b[32m     47\u001b[39m     \u001b[38;5;66;03m# Feed-forward block\u001b[39;00m\n",
      "    \u001b[31m[... skipping hidden 5 frame]\u001b[39m\n",
      "\u001b[36mFile \u001b[39m\u001b[32m~/ReLax/.venv/lib/python3.11/site-packages/jax/_src/interpreters/pxla.py:1306\u001b[39m, in \u001b[36mExecuteReplicated.__call__\u001b[39m\u001b[34m(self, *args)\u001b[39m\n\u001b[32m   1304\u001b[39m   \u001b[38;5;28mself\u001b[39m._handle_token_bufs(result_token_bufs, sharded_runtime_token)\n\u001b[32m   1305\u001b[39m \u001b[38;5;28;01melse\u001b[39;00m:\n\u001b[32m-> \u001b[39m\u001b[32m1306\u001b[39m   results = \u001b[38;5;28;43mself\u001b[39;49m\u001b[43m.\u001b[49m\u001b[43mxla_executable\u001b[49m\u001b[43m.\u001b[49m\u001b[43mexecute_sharded\u001b[49m\u001b[43m(\u001b[49m\u001b[43minput_bufs\u001b[49m\u001b[43m)\u001b[49m\n\u001b[32m   1308\u001b[39m \u001b[38;5;28;01mif\u001b[39;00m dispatch.needs_check_special():\n\u001b[32m   1309\u001b[39m   out_arrays = results.disassemble_into_single_device_arrays()\n",
      "\u001b[31mXlaRuntimeError\u001b[39m: RESOURCE_EXHAUSTED: Error allocating device buffer: Attempting to allocate 896.00M. That was not possible. There are 612.30M free.; (0x0x0_HBM0)"
     ]
    }
   ],
   "source": [
    "logits,updated_kvcache = model.apply({\"params\": params}, dummy_tokens, 0, dummy_kvcache)"
   ]
  },
  {
   "cell_type": "code",
   "execution_count": null,
   "metadata": {},
   "outputs": [],
   "source": []
  }
 ],
 "metadata": {
  "kernelspec": {
   "display_name": ".venv",
   "language": "python",
   "name": "python3"
  },
  "language_info": {
   "codemirror_mode": {
    "name": "ipython",
    "version": 3
   },
   "file_extension": ".py",
   "mimetype": "text/x-python",
   "name": "python",
   "nbconvert_exporter": "python",
   "pygments_lexer": "ipython3",
   "version": "3.11.13"
  }
 },
 "nbformat": 4,
 "nbformat_minor": 2
}
