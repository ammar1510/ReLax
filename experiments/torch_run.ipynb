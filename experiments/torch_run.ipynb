{
 "cells": [
  {
   "cell_type": "code",
   "execution_count": 5,
   "metadata": {},
   "outputs": [],
   "source": [
    "import torch\n",
    "from experiments.torch_llama import Transformer, ModelArgs\n",
    "from models.llama.tokenizer import Tokenizer"
   ]
  },
  {
   "cell_type": "code",
   "execution_count": 3,
   "metadata": {},
   "outputs": [],
   "source": [
    "model_args = ModelArgs(\n",
    "    dim=3072,\n",
    "    n_layers=28,\n",
    "    n_heads=24,\n",
    "    n_kv_heads=8,\n",
    "    vocab_size=128256,\n",
    "    multiple_of=256,\n",
    "    ffn_dim_multiplier=1,\n",
    "    norm_eps=1e-5,\n",
    "    rope_theta=500000.0,\n",
    "    use_scaled_rope=True,\n",
    "    max_batch_size=4,\n",
    "    max_seq_len=8192,\n",
    "    flash=False,\n",
    ")"
   ]
  },
  {
   "cell_type": "code",
   "execution_count": 4,
   "metadata": {},
   "outputs": [],
   "source": [
    "ckpt_path = \"/home/ammar3.shaikh/ReLax/artifacts/weights/Llama-3.2-3B/original/consolidated.00.pth\"\n",
    "tokenizer_path = \"/home/ammar3.shaikh/ReLax/artifacts/weights/Llama-3.2-3B/original/tokenizer.model\""
   ]
  },
  {
   "cell_type": "code",
   "execution_count": 6,
   "metadata": {},
   "outputs": [],
   "source": [
    "tokenizer = Tokenizer(tokenizer_path)\n"
   ]
  },
  {
   "cell_type": "code",
   "execution_count": 8,
   "metadata": {},
   "outputs": [
    {
     "data": {
      "text/plain": [
       "<All keys matched successfully>"
      ]
     },
     "execution_count": 8,
     "metadata": {},
     "output_type": "execute_result"
    }
   ],
   "source": [
    "model = Transformer(model_args)\n",
    "checkpoint = torch.load(ckpt_path, map_location=\"cpu\", weights_only=True)\n",
    "model.load_state_dict(checkpoint, strict=False)"
   ]
  },
  {
   "cell_type": "code",
   "execution_count": null,
   "metadata": {},
   "outputs": [],
   "source": [
    "# JAX init\n",
    "batch_size = 2\n",
    "seq_len = 512\n",
    "dummy_tokens = torch.ones((batch_size, seq_len), dtype=torch.int32)\n",
    "logits = model.forward_inference(dummy_tokens, 0)\n"
   ]
  }
 ],
 "metadata": {
  "kernelspec": {
   "display_name": ".venv",
   "language": "python",
   "name": "python3"
  },
  "language_info": {
   "codemirror_mode": {
    "name": "ipython",
    "version": 3
   },
   "file_extension": ".py",
   "mimetype": "text/x-python",
   "name": "python",
   "nbconvert_exporter": "python",
   "pygments_lexer": "ipython3",
   "version": "3.11.13"
  }
 },
 "nbformat": 4,
 "nbformat_minor": 2
}
