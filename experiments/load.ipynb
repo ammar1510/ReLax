{
 "cells": [
  {
   "cell_type": "code",
   "execution_count": 6,
   "metadata": {},
   "outputs": [],
   "source": [
    "import jax \n",
    "import jax.numpy as jnp \n",
    "import flax\n",
    "import msgpack"
   ]
  },
  {
   "cell_type": "code",
   "execution_count": 9,
   "metadata": {},
   "outputs": [],
   "source": [
    "with open(\"/home/ammar3.shaikh/ReLax/artifacts/weights/Llama-3.2-3B-JAX/flax_model-00002-of-00002.msgpack\", \"rb\") as f:\n",
    "    loaded_data = f.read()\n"
   ]
  },
  {
   "cell_type": "code",
   "execution_count": 11,
   "metadata": {},
   "outputs": [
    {
     "data": {
      "text/plain": [
       "b'\\x82\\xa5model\\x82\\xa6layers\\x88\\xa220\\x83'"
      ]
     },
     "execution_count": 11,
     "metadata": {},
     "output_type": "execute_result"
    }
   ],
   "source": [
    "loaded_data[:20]"
   ]
  },
  {
   "cell_type": "code",
   "execution_count": 12,
   "metadata": {},
   "outputs": [
    {
     "name": "stdout",
     "output_type": "stream",
     "text": [
      "Successfully loaded and unpacked the file from: /home/ammar3.shaikh/ReLax/artifacts/weights/Llama-3.2-3B-JAX/flax_model-00002-of-00002.msgpack\n",
      "The data is now a 'dict' object.\n",
      "\n",
      "Here are the top-level keys:\n",
      "  - model\n",
      "  - lm_head\n"
     ]
    }
   ],
   "source": [
    "import msgpack\n",
    "\n",
    "# The path to your file\n",
    "file_path = \"/home/ammar3.shaikh/ReLax/artifacts/weights/Llama-3.2-3B-JAX/flax_model-00002-of-00002.msgpack\"\n",
    "\n",
    "try:\n",
    "    # Your code is the first step: reading the bytes\n",
    "    with open(file_path, \"rb\") as f:\n",
    "        loaded_bytes = f.read()\n",
    "\n",
    "    # The second, necessary step: unpacking the bytes into a Python object\n",
    "    # raw=False ensures that strings are decoded to Python's str type (utf-8 by default)\n",
    "    unpacked_data = msgpack.unpackb(loaded_bytes, raw=False)\n",
    "\n",
    "    print(f\"Successfully loaded and unpacked the file from: {file_path}\")\n",
    "    print(f\"The data is now a '{type(unpacked_data).__name__}' object.\")\n",
    "\n",
    "    # Now you can work with it, for example, check its keys if it's a dict\n",
    "    if isinstance(unpacked_data, dict):\n",
    "        print(\"\\nHere are the top-level keys:\")\n",
    "        for key in unpacked_data.keys():\n",
    "            print(f\"  - {key}\")\n",
    "\n",
    "except FileNotFoundError:\n",
    "    print(f\"Error: The file was not found at {file_path}\")\n",
    "except Exception as e:\n",
    "    print(f\"An error occurred: {e}\")\n"
   ]
  },
  {
   "cell_type": "code",
   "execution_count": 21,
   "metadata": {},
   "outputs": [
    {
     "data": {
      "text/plain": [
       "msgpack.ext.ExtType"
      ]
     },
     "execution_count": 21,
     "metadata": {},
     "output_type": "execute_result"
    }
   ],
   "source": [
    "type(unpacked_data[\"model\"][\"layers\"][\"21\"][\"self_attn\"][\"q_proj\"][\"kernel\"])"
   ]
  },
  {
   "cell_type": "code",
   "execution_count": null,
   "metadata": {},
   "outputs": [],
   "source": []
  }
 ],
 "metadata": {
  "kernelspec": {
   "display_name": ".venv",
   "language": "python",
   "name": "python3"
  },
  "language_info": {
   "codemirror_mode": {
    "name": "ipython",
    "version": 3
   },
   "file_extension": ".py",
   "mimetype": "text/x-python",
   "name": "python",
   "nbconvert_exporter": "python",
   "pygments_lexer": "ipython3",
   "version": "3.11.13"
  }
 },
 "nbformat": 4,
 "nbformat_minor": 2
}
