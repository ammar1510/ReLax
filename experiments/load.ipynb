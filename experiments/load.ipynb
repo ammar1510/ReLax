{
 "cells": [
  {
   "cell_type": "code",
   "execution_count": 1,
   "metadata": {},
   "outputs": [
    {
     "ename": "AttributeError",
     "evalue": "type object 'ModelConfig' has no attribute 'from_pretrained'",
     "output_type": "error",
     "traceback": [
      "\u001b[31m---------------------------------------------------------------------------\u001b[39m",
      "\u001b[31mAttributeError\u001b[39m                            Traceback (most recent call last)",
      "\u001b[36mCell\u001b[39m\u001b[36m \u001b[39m\u001b[32mIn[1]\u001b[39m\u001b[32m, line 5\u001b[39m\n\u001b[32m      2\u001b[39m \u001b[38;5;28;01mfrom\u001b[39;00m\u001b[38;5;250m \u001b[39m\u001b[34;01mmodels\u001b[39;00m\u001b[34;01m.\u001b[39;00m\u001b[34;01mllama\u001b[39;00m\u001b[34;01m.\u001b[39;00m\u001b[34;01mconfig\u001b[39;00m\u001b[38;5;250m \u001b[39m\u001b[38;5;28;01mimport\u001b[39;00m ModelConfig\n\u001b[32m      4\u001b[39m model_path = \u001b[33m\"\u001b[39m\u001b[33m/Users/ammar3.shaikh/Desktop/ReLax/artifacts/weights/Llama-3.2-3B\u001b[39m\u001b[33m\"\u001b[39m\n\u001b[32m----> \u001b[39m\u001b[32m5\u001b[39m config = \u001b[43mModelConfig\u001b[49m\u001b[43m.\u001b[49m\u001b[43mfrom_pretrained\u001b[49m(model_path)\n\u001b[32m      6\u001b[39m params = load_llama_weights(model_path, config)\n\u001b[32m      8\u001b[39m \u001b[38;5;28mprint\u001b[39m(params.keys())\n",
      "\u001b[31mAttributeError\u001b[39m: type object 'ModelConfig' has no attribute 'from_pretrained'"
     ]
    }
   ],
   "source": [
    "from models.llama.load import load_llama_weights\n",
    "from models.llama.config import ModelConfig\n",
    "\n",
    "model_path = \"/Users/ammar3.shaikh/Desktop/ReLax/artifacts/weights/Llama-3.2-3B\"\n",
    "config = ModelConfig.from_pretrained(model_path)\n",
    "params = load_llama_weights(model_path, config)\n",
    "\n",
    "print(params.keys())"
   ]
  },
  {
   "cell_type": "code",
   "execution_count": null,
   "metadata": {},
   "outputs": [],
   "source": []
  }
 ],
 "metadata": {
  "kernelspec": {
   "display_name": ".venv",
   "language": "python",
   "name": "python3"
  },
  "language_info": {
   "codemirror_mode": {
    "name": "ipython",
    "version": 3
   },
   "file_extension": ".py",
   "mimetype": "text/x-python",
   "name": "python",
   "nbconvert_exporter": "python",
   "pygments_lexer": "ipython3",
   "version": "3.12.8"
  }
 },
 "nbformat": 4,
 "nbformat_minor": 2
}
